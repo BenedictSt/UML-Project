{
 "cells": [
  {
   "cell_type": "code",
   "execution_count": 2,
   "metadata": {},
   "outputs": [],
   "source": [
    "import numpy as np\n",
    "import pandas as pd\n",
    "from pathlib import Path\n",
    "from matplotlib import pyplot as plt\n",
    "from plotly.offline import plot\n",
    "\n",
    "import plotly.express as px\n",
    "import plotly.graph_objects as go\n",
    "from plotly.subplots import make_subplots\n",
    "\n",
    "from utils import save_plotly_figure_as_html\n",
    "from ex_01_read_data import get_welding_data\n",
    "\n"
   ]
  },
  {
   "cell_type": "code",
   "execution_count": 25,
   "metadata": {},
   "outputs": [],
   "source": [
    "data_path = Path(\"data/Welding/data.csv\")\n",
    "plot_path = Path(\"plots/ex_02\")"
   ]
  },
  {
   "cell_type": "markdown",
   "metadata": {},
   "source": [
    "## Exercise 2.1: Dataset Statistics Analysis\n",
    "\n",
    "In this exercise, we'll calculate and present comprehensive descriptive statistics for the welding dataset. This statistical overview will help us understand the fundamental characteristics of our data before visualization or modeling.\n",
    "\n",
    "1. Calculate the class distribution to understand data balance\n",
    "2. Count samples per experiment to assess data volume across experimental conditions\n",
    "3. Determine min/max values for voltage and current to understand the range of measurements\n",
    "4. Calculate mean and standard deviation to assess central tendency and variability\n",
    "5. Find median values to identify central points unaffected by outliers"
   ]
  },
  {
   "cell_type": "code",
   "execution_count": 26,
   "metadata": {},
   "outputs": [],
   "source": [
    "data, labels, exp_ids = get_welding_data(data_path)"
   ]
  },
  {
   "cell_type": "code",
   "execution_count": null,
   "metadata": {},
   "outputs": [],
   "source": [
    "\n"
   ]
  },
  {
   "cell_type": "markdown",
   "metadata": {},
   "source": [
    "## Exercise 2.2: Current and Voltage Distribution Visualization\n",
    "\n",
    "In this exercise, we'll create interactive boxplots to visualize and compare the distributions of voltage and current measurements in the welding data. Boxplots will help us identify central tendencies, spread, and potential outliers in our measurements.\n",
    "\n",
    "1. Create side-by-side boxplots for voltage and current using Plotly\n",
    "2. Display key statistics (median, quartiles, etc.) in a visual format in the plot\n",
    "3. Enable interactive exploration of the distributions\n",
    "4. Save the visualization for future reference"
   ]
  },
  {
   "cell_type": "code",
   "execution_count": null,
   "metadata": {},
   "outputs": [],
   "source": [
    "data, labels, exp_ids = get_welding_data(data_path, n_samples=10_000)\n",
    "\n",
    "save_path =  plot_path / \"voltage_current_distribution\""
   ]
  },
  {
   "cell_type": "code",
   "execution_count": null,
   "metadata": {},
   "outputs": [],
   "source": []
  },
  {
   "cell_type": "markdown",
   "metadata": {},
   "source": [
    "## Exercise 2.3: Time-Series Sequence Visualization\n",
    "\n",
    "In this exercise, we'll implement functions to visualize the time-series patterns of welding cycles. These visualizations will help us understand the temporal relationships between voltage and current during the welding process and identify patterns associated with quality outcomes.\n",
    "\n",
    "1. Create dual-axis plots showing voltage and current over time (10 welding cycles -> sequence_length=10) using matplotlib\n",
    "2. Implement clear legends and labels for data interpretation\n",
    "3. Enable saving of visualizations for reporting and comparison"
   ]
  },
  {
   "cell_type": "code",
   "execution_count": null,
   "metadata": {},
   "outputs": [],
   "source": [
    "\n",
    "data, labels, exp_ids = get_welding_data(data_path, n_samples=100, return_sequences=True, sequence_length=10)\n",
    "save_path = plot_path / \"welding_sample.png\"    "
   ]
  },
  {
   "cell_type": "code",
   "execution_count": null,
   "metadata": {},
   "outputs": [],
   "source": []
  },
  {
   "cell_type": "markdown",
   "metadata": {},
   "source": [
    "## Exercise 2.4: Interactive Time-Series Visualization with Plotly\n",
    "\n",
    "In this exercise, we'll create enhanced interactive visualizations of welding samples using Plotly. These interactive plots will provide more advanced exploration capabilities for analyzing the time-series patterns.\n",
    "\n",
    "1. Create interactive plots with dual y-axes for voltage and current\n",
    "2. Implement time-based range sliders for detailed exploration\n",
    "3. Add unified tooltips for precise data reading\n",
    "4. Display quality metrics in the plot title\n",
    "5. Save interactive visualizations as HTML for sharing"
   ]
  },
  {
   "cell_type": "code",
   "execution_count": null,
   "metadata": {},
   "outputs": [],
   "source": [
    "def create_plotly_plot(data: np.ndarray, labels: np.ndarray, exp_ids: np.ndarray = None) -> go.Figure:\n",
    "    \"\"\"\n",
    "    Create an interactive Plotly visualization of a random welding sample.\n",
    "\n",
    "    Args:\n",
    "        data (np.ndarray): Array containing voltage and current data\n",
    "        labels (np.ndarray): Array containing class labels\n",
    "        exp_ids (np.ndarray, optional): Array containing experiment IDs. Defaults to None.\n",
    "\n",
    "    Returns:\n",
    "        plotly.graph_objects.Figure: Interactive Plotly figure object\n",
    "    \"\"\"\n",
    "    pass\n",
    "\n",
    "\n",
    "fig = create_plotly_plot(data, labels, exp_ids)\n",
    "save_plotly_figure_as_html(fig, plot_path / \"welding_samples\")\n",
    "fig.show()"
   ]
  },
  {
   "cell_type": "markdown",
   "metadata": {},
   "source": [
    "## Exercise 2.5: Multiple Sample Comparison\n",
    "\n",
    "In this exercise, we'll generate and compare visualizations from multiple random welding samples. This comparison will help us identify common patterns and variations across different welding cycles.\n",
    " \n",
    "\n",
    "1. Generate multiple random sample visualizations using matplotlib of single welding cycles\n",
    "2. Create dual-axis plots showing voltage and current over time\n",
    "3. Implement clear legends and labels for data interpretation\n",
    "4. Save each visualization for comparison"
   ]
  },
  {
   "cell_type": "code",
   "execution_count": null,
   "metadata": {},
   "outputs": [],
   "source": [
    "data, labels, exp_ids = get_welding_data(data_path, n_samples=1_000)"
   ]
  },
  {
   "cell_type": "code",
   "execution_count": null,
   "metadata": {},
   "outputs": [],
   "source": [
    "for i in range(5):\n",
    "    plot_random_sample(data, labels, save_path=plot_path / f\"welding_sample_{i}.png\")\n",
    "    "
   ]
  },
  {
   "cell_type": "code",
   "execution_count": null,
   "metadata": {},
   "outputs": [],
   "source": []
  }
 ],
 "metadata": {
  "kernelspec": {
   "display_name": ".venv",
   "language": "python",
   "name": "python3"
  },
  "language_info": {
   "codemirror_mode": {
    "name": "ipython",
    "version": 3
   },
   "file_extension": ".py",
   "mimetype": "text/x-python",
   "name": "python",
   "nbconvert_exporter": "python",
   "pygments_lexer": "ipython3",
   "version": "3.13.2"
  }
 },
 "nbformat": 4,
 "nbformat_minor": 2
}
