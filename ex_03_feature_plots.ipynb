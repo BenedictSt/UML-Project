{
 "cells": [
  {
   "cell_type": "code",
   "execution_count": 1,
   "metadata": {},
   "outputs": [],
   "source": [
    "import numpy as np\n",
    "import pandas as pd\n",
    "from pathlib import Path\n",
    "from matplotlib import pyplot as plt\n",
    "import seaborn as sns\n",
    "\n",
    "from ex_01_read_data import get_welding_data\n",
    "from ex_03_feature_extraction import extract_features"
   ]
  },
  {
   "cell_type": "code",
   "execution_count": 2,
   "metadata": {},
   "outputs": [],
   "source": [
    "data_path = Path(\"data/Welding/data.csv\")\n",
    "plot_path = Path(\"plots/ex_03\")\n",
    "plot_path.mkdir(parents=True, exist_ok=True)"
   ]
  },
  {
   "cell_type": "markdown",
   "metadata": {},
   "source": [
    "## Exercise 3.3: Feature Exploration with Pairplots\n",
    "\n",
    "In this exercise, you will create a seaborn pairplot to visualize relationships between the features extracted from the welding data. "
   ]
  },
  {
   "cell_type": "code",
   "execution_count": null,
   "metadata": {},
   "outputs": [],
   "source": [
    "n_samples = 1_000\n",
    "data, labels, _ = get_welding_data(data_path, n_samples=n_samples)\n",
    "features = extract_features(data, labels)\n",
    "features.head()"
   ]
  },
  {
   "cell_type": "code",
   "execution_count": null,
   "metadata": {},
   "outputs": [],
   "source": []
  },
  {
   "cell_type": "markdown",
   "metadata": {},
   "source": [
    "## Exercise 3.4: Describe Your Feature Selection\n",
    "\n",
    "Based on the pairplot visualization from Exercise 3.1, provide a detailed analysis of your feature selection:\n",
    "\n",
    "1. Which features appear most effective at separating the quality classes?\n",
    "2. Are there features that show strong correlation with each other? Would it make sense to remove any redundant features?\n",
    "3. Explain the physical significance of your selected features in the context of welding quality.\n",
    "4. If you were to select a subset of 5 most important features for classifying welding quality, which would you choose and why?\n",
    "5. Discuss any patterns or insights you discovered in the data visualization that might help with building a classification model.\n"
   ]
  },
  {
   "cell_type": "code",
   "execution_count": null,
   "metadata": {},
   "outputs": [],
   "source": []
  }
 ],
 "metadata": {
  "kernelspec": {
   "display_name": ".venv",
   "language": "python",
   "name": "python3"
  },
  "language_info": {
   "codemirror_mode": {
    "name": "ipython",
    "version": 3
   },
   "file_extension": ".py",
   "mimetype": "text/x-python",
   "name": "python",
   "nbconvert_exporter": "python",
   "pygments_lexer": "ipython3",
   "version": "3.13.2"
  }
 },
 "nbformat": 4,
 "nbformat_minor": 2
}
